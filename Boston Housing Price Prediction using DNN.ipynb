{
 "cells": [
  {
   "cell_type": "code",
   "execution_count": 1,
   "id": "de2f7afd",
   "metadata": {},
   "outputs": [],
   "source": [
    "import numpy as np\n",
    "import pandas as pd\n",
    "import seaborn as sns\n",
    "import matplotlib.pyplot as plt"
   ]
  },
  {
   "cell_type": "code",
   "execution_count": 2,
   "id": "98f9967f",
   "metadata": {},
   "outputs": [],
   "source": [
    "df = pd.read_csv(\"Boston_Housing.csv\")"
   ]
  },
  {
   "cell_type": "code",
   "execution_count": 3,
   "id": "e272b0ac",
   "metadata": {},
   "outputs": [
    {
     "data": {
      "text/html": [
       "<div>\n",
       "<style scoped>\n",
       "    .dataframe tbody tr th:only-of-type {\n",
       "        vertical-align: middle;\n",
       "    }\n",
       "\n",
       "    .dataframe tbody tr th {\n",
       "        vertical-align: top;\n",
       "    }\n",
       "\n",
       "    .dataframe thead th {\n",
       "        text-align: right;\n",
       "    }\n",
       "</style>\n",
       "<table border=\"1\" class=\"dataframe\">\n",
       "  <thead>\n",
       "    <tr style=\"text-align: right;\">\n",
       "      <th></th>\n",
       "      <th>CRIM</th>\n",
       "      <th>ZN</th>\n",
       "      <th>INDUS</th>\n",
       "      <th>CHAS</th>\n",
       "      <th>NOX</th>\n",
       "      <th>RM</th>\n",
       "      <th>AGE</th>\n",
       "      <th>DIS</th>\n",
       "      <th>RAD</th>\n",
       "      <th>TAX</th>\n",
       "      <th>PTRATIO</th>\n",
       "      <th>B</th>\n",
       "      <th>LSTAT</th>\n",
       "      <th>MEDV</th>\n",
       "    </tr>\n",
       "  </thead>\n",
       "  <tbody>\n",
       "    <tr>\n",
       "      <th>0</th>\n",
       "      <td>0.00632</td>\n",
       "      <td>18.0</td>\n",
       "      <td>2.31</td>\n",
       "      <td>0.0</td>\n",
       "      <td>0.538</td>\n",
       "      <td>6.575</td>\n",
       "      <td>65.2</td>\n",
       "      <td>4.0900</td>\n",
       "      <td>1</td>\n",
       "      <td>296</td>\n",
       "      <td>15.3</td>\n",
       "      <td>396.90</td>\n",
       "      <td>4.98</td>\n",
       "      <td>24.0</td>\n",
       "    </tr>\n",
       "    <tr>\n",
       "      <th>1</th>\n",
       "      <td>0.02731</td>\n",
       "      <td>0.0</td>\n",
       "      <td>7.07</td>\n",
       "      <td>0.0</td>\n",
       "      <td>0.469</td>\n",
       "      <td>6.421</td>\n",
       "      <td>78.9</td>\n",
       "      <td>4.9671</td>\n",
       "      <td>2</td>\n",
       "      <td>242</td>\n",
       "      <td>17.8</td>\n",
       "      <td>396.90</td>\n",
       "      <td>9.14</td>\n",
       "      <td>21.6</td>\n",
       "    </tr>\n",
       "    <tr>\n",
       "      <th>2</th>\n",
       "      <td>0.02729</td>\n",
       "      <td>0.0</td>\n",
       "      <td>7.07</td>\n",
       "      <td>0.0</td>\n",
       "      <td>0.469</td>\n",
       "      <td>7.185</td>\n",
       "      <td>61.1</td>\n",
       "      <td>4.9671</td>\n",
       "      <td>2</td>\n",
       "      <td>242</td>\n",
       "      <td>17.8</td>\n",
       "      <td>392.83</td>\n",
       "      <td>4.03</td>\n",
       "      <td>34.7</td>\n",
       "    </tr>\n",
       "    <tr>\n",
       "      <th>3</th>\n",
       "      <td>0.03237</td>\n",
       "      <td>0.0</td>\n",
       "      <td>2.18</td>\n",
       "      <td>0.0</td>\n",
       "      <td>0.458</td>\n",
       "      <td>6.998</td>\n",
       "      <td>45.8</td>\n",
       "      <td>6.0622</td>\n",
       "      <td>3</td>\n",
       "      <td>222</td>\n",
       "      <td>18.7</td>\n",
       "      <td>394.63</td>\n",
       "      <td>2.94</td>\n",
       "      <td>33.4</td>\n",
       "    </tr>\n",
       "    <tr>\n",
       "      <th>4</th>\n",
       "      <td>0.06905</td>\n",
       "      <td>0.0</td>\n",
       "      <td>2.18</td>\n",
       "      <td>0.0</td>\n",
       "      <td>0.458</td>\n",
       "      <td>7.147</td>\n",
       "      <td>54.2</td>\n",
       "      <td>6.0622</td>\n",
       "      <td>3</td>\n",
       "      <td>222</td>\n",
       "      <td>18.7</td>\n",
       "      <td>396.90</td>\n",
       "      <td>NaN</td>\n",
       "      <td>36.2</td>\n",
       "    </tr>\n",
       "  </tbody>\n",
       "</table>\n",
       "</div>"
      ],
      "text/plain": [
       "      CRIM    ZN  INDUS  CHAS    NOX     RM   AGE     DIS  RAD  TAX  PTRATIO   \n",
       "0  0.00632  18.0   2.31   0.0  0.538  6.575  65.2  4.0900    1  296     15.3  \\\n",
       "1  0.02731   0.0   7.07   0.0  0.469  6.421  78.9  4.9671    2  242     17.8   \n",
       "2  0.02729   0.0   7.07   0.0  0.469  7.185  61.1  4.9671    2  242     17.8   \n",
       "3  0.03237   0.0   2.18   0.0  0.458  6.998  45.8  6.0622    3  222     18.7   \n",
       "4  0.06905   0.0   2.18   0.0  0.458  7.147  54.2  6.0622    3  222     18.7   \n",
       "\n",
       "        B  LSTAT  MEDV  \n",
       "0  396.90   4.98  24.0  \n",
       "1  396.90   9.14  21.6  \n",
       "2  392.83   4.03  34.7  \n",
       "3  394.63   2.94  33.4  \n",
       "4  396.90    NaN  36.2  "
      ]
     },
     "execution_count": 3,
     "metadata": {},
     "output_type": "execute_result"
    }
   ],
   "source": [
    "df.head()"
   ]
  },
  {
   "cell_type": "code",
   "execution_count": 4,
   "id": "6f16cf8b",
   "metadata": {},
   "outputs": [
    {
     "data": {
      "text/plain": [
       "CRIM       20\n",
       "ZN         20\n",
       "INDUS      20\n",
       "CHAS       20\n",
       "NOX         0\n",
       "RM          0\n",
       "AGE        20\n",
       "DIS         0\n",
       "RAD         0\n",
       "TAX         0\n",
       "PTRATIO     0\n",
       "B           0\n",
       "LSTAT      20\n",
       "MEDV        0\n",
       "dtype: int64"
      ]
     },
     "execution_count": 4,
     "metadata": {},
     "output_type": "execute_result"
    }
   ],
   "source": [
    "df.isnull().sum()"
   ]
  },
  {
   "cell_type": "code",
   "execution_count": 5,
   "id": "2bf81860",
   "metadata": {},
   "outputs": [],
   "source": [
    "df['CRIM'].fillna(df['CRIM'].mean(),inplace=True)\n",
    "df['ZN'].fillna(df['ZN'].mean(),inplace=True)\n",
    "df['INDUS'].fillna(df['INDUS'].mean(),inplace=True)\n",
    "df['CHAS'].fillna(df['CHAS'].mean(),inplace=True)\n",
    "df['AGE'].fillna(df['AGE'].mean(),inplace=True)\n",
    "df['LSTAT'].fillna(df['LSTAT'].mean(),inplace=True)"
   ]
  },
  {
   "cell_type": "code",
   "execution_count": 6,
   "id": "da2e24ec",
   "metadata": {},
   "outputs": [
    {
     "data": {
      "text/plain": [
       "CRIM       0\n",
       "ZN         0\n",
       "INDUS      0\n",
       "CHAS       0\n",
       "NOX        0\n",
       "RM         0\n",
       "AGE        0\n",
       "DIS        0\n",
       "RAD        0\n",
       "TAX        0\n",
       "PTRATIO    0\n",
       "B          0\n",
       "LSTAT      0\n",
       "MEDV       0\n",
       "dtype: int64"
      ]
     },
     "execution_count": 6,
     "metadata": {},
     "output_type": "execute_result"
    }
   ],
   "source": [
    "df.isnull().sum()"
   ]
  },
  {
   "cell_type": "code",
   "execution_count": 7,
   "id": "978b8985",
   "metadata": {},
   "outputs": [],
   "source": [
    "X = df.loc[:,df.columns != 'MEDV']\n",
    "y = df.loc[:,df.columns == 'MEDV']"
   ]
  },
  {
   "cell_type": "code",
   "execution_count": 8,
   "id": "27ba64e3",
   "metadata": {},
   "outputs": [],
   "source": [
    "from sklearn.model_selection import train_test_split\n",
    "X_train, X_test, y_train, y_test = train_test_split(X,y,test_size=0.3, random_state=123)"
   ]
  },
  {
   "cell_type": "code",
   "execution_count": 9,
   "id": "bae2b438",
   "metadata": {},
   "outputs": [],
   "source": [
    "from sklearn.preprocessing import MinMaxScaler\n",
    "ms = MinMaxScaler()\n",
    "ms.fit(X_train)\n",
    "X_train = ms.transform(X_train)\n",
    "X_test = ms.transform(X_test)"
   ]
  },
  {
   "cell_type": "code",
   "execution_count": 10,
   "id": "e785e84d",
   "metadata": {},
   "outputs": [
    {
     "name": "stdout",
     "output_type": "stream",
     "text": [
      "Model: \"sequential\"\n",
      "_________________________________________________________________\n",
      " Layer (type)                Output Shape              Param #   \n",
      "=================================================================\n",
      " dense1 (Dense)              (None, 128)               1792      \n",
      "                                                                 \n",
      " dense2 (Dense)              (None, 64)                8256      \n",
      "                                                                 \n",
      " output_layer (Dense)        (None, 1)                 65        \n",
      "                                                                 \n",
      "=================================================================\n",
      "Total params: 10113 (39.50 KB)\n",
      "Trainable params: 10113 (39.50 KB)\n",
      "Non-trainable params: 0 (0.00 Byte)\n",
      "_________________________________________________________________\n"
     ]
    }
   ],
   "source": [
    "from tensorflow.keras.models import Sequential\n",
    "from tensorflow.keras.layers import Dense\n",
    "model = Sequential()\n",
    "model.add(Dense(128,input_shape=(13,),activation='relu',name='dense1'))\n",
    "model.add(Dense(64,activation='relu',name='dense2'))\n",
    "model.add(Dense(1,activation='linear',name='output_layer'))\n",
    "model.compile(optimizer='adam',loss='mse',metrics='mae')\n",
    "model.summary()"
   ]
  },
  {
   "cell_type": "code",
   "execution_count": 11,
   "id": "8d051680",
   "metadata": {},
   "outputs": [
    {
     "name": "stdout",
     "output_type": "stream",
     "text": [
      "Epoch 1/100\n",
      "11/11 [==============================] - 2s 54ms/step - loss: 570.3309 - mae: 21.9600 - val_loss: 581.5074 - val_mae: 22.1038\n",
      "Epoch 2/100\n",
      "11/11 [==============================] - 0s 14ms/step - loss: 518.6302 - mae: 20.6712 - val_loss: 518.4640 - val_mae: 20.5597\n",
      "Epoch 3/100\n",
      "11/11 [==============================] - 0s 12ms/step - loss: 442.1245 - mae: 18.6197 - val_loss: 421.6966 - val_mae: 17.9048\n",
      "Epoch 4/100\n",
      "11/11 [==============================] - 0s 13ms/step - loss: 335.4203 - mae: 15.4001 - val_loss: 296.3676 - val_mae: 13.9923\n",
      "Epoch 5/100\n",
      "11/11 [==============================] - 0s 13ms/step - loss: 222.4467 - mae: 11.8987 - val_loss: 184.9159 - val_mae: 9.8143\n",
      "Epoch 6/100\n",
      "11/11 [==============================] - 0s 13ms/step - loss: 155.3612 - mae: 9.8303 - val_loss: 138.3818 - val_mae: 8.6328\n",
      "Epoch 7/100\n",
      "11/11 [==============================] - 0s 13ms/step - loss: 136.3897 - mae: 9.2043 - val_loss: 123.8467 - val_mae: 8.2486\n",
      "Epoch 8/100\n",
      "11/11 [==============================] - 0s 14ms/step - loss: 118.8943 - mae: 8.4794 - val_loss: 114.3035 - val_mae: 7.8294\n",
      "Epoch 9/100\n",
      "11/11 [==============================] - 0s 14ms/step - loss: 100.7953 - mae: 7.6105 - val_loss: 104.2204 - val_mae: 7.3933\n",
      "Epoch 10/100\n",
      "11/11 [==============================] - 0s 13ms/step - loss: 86.4799 - mae: 6.9365 - val_loss: 94.0447 - val_mae: 6.9561\n",
      "Epoch 11/100\n",
      "11/11 [==============================] - 0s 14ms/step - loss: 74.7052 - mae: 6.3223 - val_loss: 85.3398 - val_mae: 6.5591\n",
      "Epoch 12/100\n",
      "11/11 [==============================] - 0s 13ms/step - loss: 65.5771 - mae: 5.9424 - val_loss: 78.4219 - val_mae: 6.3493\n",
      "Epoch 13/100\n",
      "11/11 [==============================] - 0s 12ms/step - loss: 58.3540 - mae: 5.5504 - val_loss: 74.3524 - val_mae: 6.1559\n",
      "Epoch 14/100\n",
      "11/11 [==============================] - 0s 15ms/step - loss: 53.2680 - mae: 5.2368 - val_loss: 71.2934 - val_mae: 6.0646\n",
      "Epoch 15/100\n",
      "11/11 [==============================] - 0s 14ms/step - loss: 49.8539 - mae: 5.0142 - val_loss: 68.8442 - val_mae: 5.9939\n",
      "Epoch 16/100\n",
      "11/11 [==============================] - 0s 14ms/step - loss: 47.0881 - mae: 4.8034 - val_loss: 67.2673 - val_mae: 5.8426\n",
      "Epoch 17/100\n",
      "11/11 [==============================] - 0s 15ms/step - loss: 45.0673 - mae: 4.7303 - val_loss: 64.5316 - val_mae: 5.9032\n",
      "Epoch 18/100\n",
      "11/11 [==============================] - 0s 14ms/step - loss: 43.1222 - mae: 4.5611 - val_loss: 64.0546 - val_mae: 5.6371\n",
      "Epoch 19/100\n",
      "11/11 [==============================] - 0s 13ms/step - loss: 41.3413 - mae: 4.4721 - val_loss: 61.4870 - val_mae: 5.7001\n",
      "Epoch 20/100\n",
      "11/11 [==============================] - 0s 14ms/step - loss: 39.7286 - mae: 4.4183 - val_loss: 60.0137 - val_mae: 5.5772\n",
      "Epoch 21/100\n",
      "11/11 [==============================] - 0s 15ms/step - loss: 37.9797 - mae: 4.2383 - val_loss: 59.0521 - val_mae: 5.4247\n",
      "Epoch 22/100\n",
      "11/11 [==============================] - 0s 14ms/step - loss: 36.5833 - mae: 4.2240 - val_loss: 55.8266 - val_mae: 5.4667\n",
      "Epoch 23/100\n",
      "11/11 [==============================] - 0s 14ms/step - loss: 35.2271 - mae: 4.0469 - val_loss: 56.1518 - val_mae: 5.2262\n",
      "Epoch 24/100\n",
      "11/11 [==============================] - 0s 13ms/step - loss: 32.9652 - mae: 3.9790 - val_loss: 52.1442 - val_mae: 5.3416\n",
      "Epoch 25/100\n",
      "11/11 [==============================] - 0s 13ms/step - loss: 31.6490 - mae: 3.9138 - val_loss: 52.0059 - val_mae: 5.1768\n",
      "Epoch 26/100\n",
      "11/11 [==============================] - 0s 12ms/step - loss: 30.1368 - mae: 3.7501 - val_loss: 50.3847 - val_mae: 5.1322\n",
      "Epoch 27/100\n",
      "11/11 [==============================] - 0s 13ms/step - loss: 28.9939 - mae: 3.6603 - val_loss: 48.2384 - val_mae: 5.1068\n",
      "Epoch 28/100\n",
      "11/11 [==============================] - 0s 12ms/step - loss: 27.6820 - mae: 3.5851 - val_loss: 47.7001 - val_mae: 5.0263\n",
      "Epoch 29/100\n",
      "11/11 [==============================] - 0s 12ms/step - loss: 26.6216 - mae: 3.5570 - val_loss: 46.0123 - val_mae: 5.0131\n",
      "Epoch 30/100\n",
      "11/11 [==============================] - 0s 12ms/step - loss: 25.3561 - mae: 3.4247 - val_loss: 46.6132 - val_mae: 4.9533\n",
      "Epoch 31/100\n",
      "11/11 [==============================] - 0s 13ms/step - loss: 24.6609 - mae: 3.3268 - val_loss: 44.5625 - val_mae: 4.9312\n",
      "Epoch 32/100\n",
      "11/11 [==============================] - 0s 12ms/step - loss: 23.7050 - mae: 3.3271 - val_loss: 43.4174 - val_mae: 4.8851\n",
      "Epoch 33/100\n",
      "11/11 [==============================] - 0s 12ms/step - loss: 23.1323 - mae: 3.2154 - val_loss: 42.6807 - val_mae: 4.8322\n",
      "Epoch 34/100\n",
      "11/11 [==============================] - 0s 13ms/step - loss: 22.6415 - mae: 3.2879 - val_loss: 40.8051 - val_mae: 4.7987\n",
      "Epoch 35/100\n",
      "11/11 [==============================] - 0s 13ms/step - loss: 22.1304 - mae: 3.1380 - val_loss: 42.0388 - val_mae: 4.7263\n",
      "Epoch 36/100\n",
      "11/11 [==============================] - 0s 13ms/step - loss: 21.5633 - mae: 3.2107 - val_loss: 39.8913 - val_mae: 4.6997\n",
      "Epoch 37/100\n",
      "11/11 [==============================] - 0s 13ms/step - loss: 20.7001 - mae: 3.0960 - val_loss: 40.4306 - val_mae: 4.6337\n",
      "Epoch 38/100\n",
      "11/11 [==============================] - 0s 12ms/step - loss: 20.2715 - mae: 3.0380 - val_loss: 39.3646 - val_mae: 4.5953\n",
      "Epoch 39/100\n",
      "11/11 [==============================] - 0s 15ms/step - loss: 19.8618 - mae: 3.0128 - val_loss: 39.1306 - val_mae: 4.5475\n",
      "Epoch 40/100\n",
      "11/11 [==============================] - 0s 17ms/step - loss: 19.5481 - mae: 2.9931 - val_loss: 37.5495 - val_mae: 4.5169\n",
      "Epoch 41/100\n",
      "11/11 [==============================] - 0s 15ms/step - loss: 19.3930 - mae: 3.0108 - val_loss: 37.7570 - val_mae: 4.4417\n",
      "Epoch 42/100\n",
      "11/11 [==============================] - 0s 14ms/step - loss: 18.9129 - mae: 2.9583 - val_loss: 36.5305 - val_mae: 4.4228\n",
      "Epoch 43/100\n",
      "11/11 [==============================] - 0s 13ms/step - loss: 18.8574 - mae: 2.9974 - val_loss: 37.7714 - val_mae: 4.3809\n",
      "Epoch 44/100\n",
      "11/11 [==============================] - 0s 12ms/step - loss: 18.5022 - mae: 2.9056 - val_loss: 36.4964 - val_mae: 4.3087\n",
      "Epoch 45/100\n",
      "11/11 [==============================] - 0s 12ms/step - loss: 18.3719 - mae: 2.9556 - val_loss: 35.3524 - val_mae: 4.2709\n",
      "Epoch 46/100\n",
      "11/11 [==============================] - 0s 12ms/step - loss: 18.0332 - mae: 2.8753 - val_loss: 35.9034 - val_mae: 4.2460\n",
      "Epoch 47/100\n",
      "11/11 [==============================] - 0s 11ms/step - loss: 17.8678 - mae: 2.8638 - val_loss: 34.3311 - val_mae: 4.1824\n",
      "Epoch 48/100\n",
      "11/11 [==============================] - 0s 12ms/step - loss: 17.6408 - mae: 2.8707 - val_loss: 34.5211 - val_mae: 4.1471\n",
      "Epoch 49/100\n",
      "11/11 [==============================] - 0s 12ms/step - loss: 17.4405 - mae: 2.8251 - val_loss: 33.8132 - val_mae: 4.0951\n",
      "Epoch 50/100\n",
      "11/11 [==============================] - 0s 15ms/step - loss: 17.3103 - mae: 2.8324 - val_loss: 33.2485 - val_mae: 4.0521\n",
      "Epoch 51/100\n",
      "11/11 [==============================] - 0s 13ms/step - loss: 17.1432 - mae: 2.8112 - val_loss: 34.0712 - val_mae: 4.0372\n",
      "Epoch 52/100\n",
      "11/11 [==============================] - 0s 12ms/step - loss: 17.0090 - mae: 2.7763 - val_loss: 32.4836 - val_mae: 3.9700\n",
      "Epoch 53/100\n",
      "11/11 [==============================] - 0s 14ms/step - loss: 16.8924 - mae: 2.7984 - val_loss: 32.9169 - val_mae: 3.9516\n",
      "Epoch 54/100\n",
      "11/11 [==============================] - 0s 12ms/step - loss: 16.7066 - mae: 2.7554 - val_loss: 31.3746 - val_mae: 3.8932\n",
      "Epoch 55/100\n",
      "11/11 [==============================] - 0s 14ms/step - loss: 16.5773 - mae: 2.7717 - val_loss: 32.3121 - val_mae: 3.8903\n",
      "Epoch 56/100\n",
      "11/11 [==============================] - 0s 12ms/step - loss: 16.9995 - mae: 2.8318 - val_loss: 31.3717 - val_mae: 3.8409\n",
      "Epoch 57/100\n",
      "11/11 [==============================] - 0s 12ms/step - loss: 16.4597 - mae: 2.7106 - val_loss: 31.7553 - val_mae: 3.8311\n",
      "Epoch 58/100\n",
      "11/11 [==============================] - 0s 12ms/step - loss: 16.2228 - mae: 2.7098 - val_loss: 30.2363 - val_mae: 3.7759\n",
      "Epoch 59/100\n",
      "11/11 [==============================] - 0s 12ms/step - loss: 16.1333 - mae: 2.7521 - val_loss: 30.4950 - val_mae: 3.7470\n",
      "Epoch 60/100\n",
      "11/11 [==============================] - 0s 12ms/step - loss: 16.0210 - mae: 2.7145 - val_loss: 30.9099 - val_mae: 3.7373\n",
      "Epoch 61/100\n"
     ]
    },
    {
     "name": "stdout",
     "output_type": "stream",
     "text": [
      "11/11 [==============================] - 0s 12ms/step - loss: 15.9406 - mae: 2.6825 - val_loss: 29.5204 - val_mae: 3.6677\n",
      "Epoch 62/100\n",
      "11/11 [==============================] - 0s 13ms/step - loss: 15.9802 - mae: 2.7536 - val_loss: 29.8689 - val_mae: 3.6492\n",
      "Epoch 63/100\n",
      "11/11 [==============================] - 0s 13ms/step - loss: 15.7213 - mae: 2.6861 - val_loss: 30.7205 - val_mae: 3.6775\n",
      "Epoch 64/100\n",
      "11/11 [==============================] - 0s 12ms/step - loss: 15.7416 - mae: 2.6768 - val_loss: 28.1643 - val_mae: 3.5790\n",
      "Epoch 65/100\n",
      "11/11 [==============================] - 0s 13ms/step - loss: 15.5419 - mae: 2.7079 - val_loss: 30.4368 - val_mae: 3.6355\n",
      "Epoch 66/100\n",
      "11/11 [==============================] - 0s 15ms/step - loss: 15.7642 - mae: 2.7211 - val_loss: 30.0877 - val_mae: 3.6121\n",
      "Epoch 67/100\n",
      "11/11 [==============================] - 0s 12ms/step - loss: 15.6502 - mae: 2.6889 - val_loss: 28.0605 - val_mae: 3.5164\n",
      "Epoch 68/100\n",
      "11/11 [==============================] - 0s 12ms/step - loss: 15.1719 - mae: 2.6416 - val_loss: 30.1849 - val_mae: 3.5791\n",
      "Epoch 69/100\n",
      "11/11 [==============================] - 0s 12ms/step - loss: 15.1327 - mae: 2.6266 - val_loss: 27.6648 - val_mae: 3.4800\n",
      "Epoch 70/100\n",
      "11/11 [==============================] - 0s 13ms/step - loss: 15.1133 - mae: 2.6319 - val_loss: 28.7655 - val_mae: 3.4888\n",
      "Epoch 71/100\n",
      "11/11 [==============================] - 0s 12ms/step - loss: 14.9980 - mae: 2.5919 - val_loss: 27.4655 - val_mae: 3.4354\n",
      "Epoch 72/100\n",
      "11/11 [==============================] - 0s 12ms/step - loss: 15.7689 - mae: 2.8055 - val_loss: 29.0383 - val_mae: 3.4855\n",
      "Epoch 73/100\n",
      "11/11 [==============================] - 0s 14ms/step - loss: 15.2669 - mae: 2.5933 - val_loss: 26.6219 - val_mae: 3.3728\n",
      "Epoch 74/100\n",
      "11/11 [==============================] - 0s 13ms/step - loss: 14.9093 - mae: 2.6508 - val_loss: 27.7325 - val_mae: 3.3857\n",
      "Epoch 75/100\n",
      "11/11 [==============================] - 0s 13ms/step - loss: 14.5787 - mae: 2.5952 - val_loss: 26.0375 - val_mae: 3.3275\n",
      "Epoch 76/100\n",
      "11/11 [==============================] - 0s 13ms/step - loss: 14.6894 - mae: 2.6584 - val_loss: 26.9523 - val_mae: 3.3339\n",
      "Epoch 77/100\n",
      "11/11 [==============================] - 0s 12ms/step - loss: 14.7744 - mae: 2.5624 - val_loss: 26.8111 - val_mae: 3.3148\n",
      "Epoch 78/100\n",
      "11/11 [==============================] - 0s 12ms/step - loss: 14.6533 - mae: 2.6425 - val_loss: 27.4095 - val_mae: 3.3175\n",
      "Epoch 79/100\n",
      "11/11 [==============================] - 0s 13ms/step - loss: 14.5265 - mae: 2.5841 - val_loss: 26.8494 - val_mae: 3.2761\n",
      "Epoch 80/100\n",
      "11/11 [==============================] - 0s 13ms/step - loss: 14.3650 - mae: 2.5425 - val_loss: 25.7900 - val_mae: 3.2196\n",
      "Epoch 81/100\n",
      "11/11 [==============================] - 0s 13ms/step - loss: 14.2703 - mae: 2.5686 - val_loss: 25.1308 - val_mae: 3.1783\n",
      "Epoch 82/100\n",
      "11/11 [==============================] - 0s 12ms/step - loss: 14.1452 - mae: 2.5497 - val_loss: 25.3317 - val_mae: 3.1553\n",
      "Epoch 83/100\n",
      "11/11 [==============================] - 0s 13ms/step - loss: 14.1628 - mae: 2.5752 - val_loss: 26.0433 - val_mae: 3.1794\n",
      "Epoch 84/100\n",
      "11/11 [==============================] - 0s 12ms/step - loss: 14.2039 - mae: 2.5006 - val_loss: 24.3454 - val_mae: 3.1013\n",
      "Epoch 85/100\n",
      "11/11 [==============================] - 0s 14ms/step - loss: 14.4044 - mae: 2.6381 - val_loss: 26.5048 - val_mae: 3.2071\n",
      "Epoch 86/100\n",
      "11/11 [==============================] - 0s 12ms/step - loss: 14.1165 - mae: 2.5122 - val_loss: 24.6551 - val_mae: 3.0813\n",
      "Epoch 87/100\n",
      "11/11 [==============================] - 0s 13ms/step - loss: 13.8551 - mae: 2.5269 - val_loss: 24.7597 - val_mae: 3.0812\n",
      "Epoch 88/100\n",
      "11/11 [==============================] - 0s 13ms/step - loss: 13.8106 - mae: 2.5196 - val_loss: 23.4575 - val_mae: 3.0375\n",
      "Epoch 89/100\n",
      "11/11 [==============================] - 0s 13ms/step - loss: 13.7670 - mae: 2.5409 - val_loss: 24.1759 - val_mae: 3.0359\n",
      "Epoch 90/100\n",
      "11/11 [==============================] - 0s 13ms/step - loss: 13.7209 - mae: 2.4906 - val_loss: 24.0855 - val_mae: 2.9985\n",
      "Epoch 91/100\n",
      "11/11 [==============================] - 0s 12ms/step - loss: 13.5919 - mae: 2.5261 - val_loss: 23.8400 - val_mae: 2.9704\n",
      "Epoch 92/100\n",
      "11/11 [==============================] - 0s 13ms/step - loss: 13.4481 - mae: 2.4684 - val_loss: 24.0092 - val_mae: 2.9732\n",
      "Epoch 93/100\n",
      "11/11 [==============================] - 0s 16ms/step - loss: 13.4956 - mae: 2.4792 - val_loss: 22.6396 - val_mae: 2.9206\n",
      "Epoch 94/100\n",
      "11/11 [==============================] - 0s 12ms/step - loss: 13.3605 - mae: 2.4759 - val_loss: 23.8252 - val_mae: 2.9314\n",
      "Epoch 95/100\n",
      "11/11 [==============================] - 0s 12ms/step - loss: 13.3020 - mae: 2.4573 - val_loss: 22.8302 - val_mae: 2.8620\n",
      "Epoch 96/100\n",
      "11/11 [==============================] - 0s 13ms/step - loss: 13.5224 - mae: 2.4659 - val_loss: 22.9727 - val_mae: 2.8588\n",
      "Epoch 97/100\n",
      "11/11 [==============================] - 0s 12ms/step - loss: 13.4789 - mae: 2.5365 - val_loss: 23.5677 - val_mae: 2.9525\n",
      "Epoch 98/100\n",
      "11/11 [==============================] - 0s 12ms/step - loss: 13.3545 - mae: 2.4646 - val_loss: 22.2454 - val_mae: 2.8232\n",
      "Epoch 99/100\n",
      "11/11 [==============================] - 0s 12ms/step - loss: 13.0556 - mae: 2.4273 - val_loss: 23.3108 - val_mae: 2.8942\n",
      "Epoch 100/100\n",
      "11/11 [==============================] - 0s 12ms/step - loss: 13.0375 - mae: 2.4366 - val_loss: 21.9209 - val_mae: 2.7873\n"
     ]
    }
   ],
   "source": [
    "history = model.fit(X_train,y_train,epochs=100, validation_split=0.05,verbose=1)"
   ]
  },
  {
   "cell_type": "code",
   "execution_count": 12,
   "id": "74fdd610",
   "metadata": {},
   "outputs": [
    {
     "name": "stdout",
     "output_type": "stream",
     "text": [
      "5/5 [==============================] - 0s 4ms/step - loss: 23.6686 - mae: 3.1895\n"
     ]
    }
   ],
   "source": [
    "mse,mae = model.evaluate(X_test,y_test)"
   ]
  },
  {
   "cell_type": "code",
   "execution_count": 13,
   "id": "48004fe4",
   "metadata": {},
   "outputs": [
    {
     "name": "stdout",
     "output_type": "stream",
     "text": [
      "23.668636322021484\n"
     ]
    }
   ],
   "source": [
    "print(mse)"
   ]
  },
  {
   "cell_type": "code",
   "execution_count": 14,
   "id": "9081d1bf",
   "metadata": {},
   "outputs": [
    {
     "name": "stdout",
     "output_type": "stream",
     "text": [
      "3.1894540786743164\n"
     ]
    }
   ],
   "source": [
    "print(mae)"
   ]
  },
  {
   "cell_type": "code",
   "execution_count": 15,
   "id": "8c41ebc4",
   "metadata": {},
   "outputs": [
    {
     "name": "stdout",
     "output_type": "stream",
     "text": [
      "5/5 [==============================] - 0s 4ms/step\n"
     ]
    }
   ],
   "source": [
    "y_pred = model.predict(X_test)"
   ]
  },
  {
   "cell_type": "code",
   "execution_count": 16,
   "id": "326f87cb",
   "metadata": {},
   "outputs": [
    {
     "data": {
      "text/plain": [
       "<Axes: xlabel='MEDV'>"
      ]
     },
     "execution_count": 16,
     "metadata": {},
     "output_type": "execute_result"
    },
    {
     "data": {
      "image/png": "[encoded data removed]",
      "text/plain": [
       "<Figure size 640x480 with 1 Axes>"
      ]
     },
     "metadata": {},
     "output_type": "display_data"
    }
   ],
   "source": [
    "sns.regplot(x=y_test,y=y_pred)"
   ]
  },
  {
   "cell_type": "code",
   "execution_count": null,
   "id": "05eb21d0",
   "metadata": {},
   "outputs": [],
   "source": []
  }
 ],
 "metadata": {
  "kernelspec": {
   "display_name": "Python 3 (ipykernel)",
   "language": "python",
   "name": "python3"
  },
  "language_info": {
   "codemirror_mode": {
    "name": "ipython",
    "version": 3
   },
   "file_extension": ".py",
   "mimetype": "text/x-python",
   "name": "python",
   "nbconvert_exporter": "python",
   "pygments_lexer": "ipython3",
   "version": "3.11.3"
  }
 },
 "nbformat": 4,
 "nbformat_minor": 5
}
